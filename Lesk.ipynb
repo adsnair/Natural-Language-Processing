{
 "cells": [
  {
   "cell_type": "code",
   "execution_count": 29,
   "metadata": {},
   "outputs": [
    {
     "name": "stdout",
     "output_type": "stream",
     "text": [
      "I went to the bank to deposit my money\n",
      "Sense: Synset('depository_financial_institution.n.01')\n",
      "Definition :  a financial institution that accepts deposits and channels the money into lending activities\n",
      "\n",
      "The river bank was full of dead fishes\n",
      "Sense: Synset('water_system.n.02')\n",
      "Definition :  a facility that provides a source of water\n"
     ]
    }
   ],
   "source": [
    "from pywsd.lesk import simple_lesk  \n",
    "s1 = ['I went to the bank to deposit my money','The river bank was full of dead fishes'] \n",
    "\n",
    "print(s1[0])\n",
    "a1 = simple_lesk(s1[0],'bank')  \n",
    "print (\"Sense:\", a1)  \n",
    "print (\"Definition : \", a1.definition())\n",
    "\n",
    "print()\n",
    "\n",
    "print(s1[1])\n",
    "a1 = simple_lesk(s1[0],'water')  \n",
    "print (\"Sense:\", a1)  \n",
    "print (\"Definition : \", a1.definition())  "
   ]
  },
  {
   "cell_type": "code",
   "execution_count": 28,
   "metadata": {},
   "outputs": [
    {
     "name": "stdout",
     "output_type": "stream",
     "text": [
      "Context-1: The workers at the plant are overworked\n",
      "Sense: Synset('plant.v.06')\n",
      "Definition :  put firmly in the mind\n",
      "\n",
      "Context-1: The plant is no longer bearing flowers\n",
      "Sense: Synset('plant.v.01')\n",
      "Definition :  put or set (seeds, seedlings, or plants) into the ground\n"
     ]
    }
   ],
   "source": [
    "s2=[\"The workers at the plant are overworked\",\"The plant is no longer bearing flowers\"]\n",
    "\n",
    "print (\"Context-1:\", s2[0])  \n",
    "a2 = simple_lesk(s2[0],'plant')  \n",
    "print (\"Sense:\", a2)  \n",
    "print (\"Definition : \", a2.definition())\n",
    "\n",
    "print()\n",
    "\n",
    "print (\"Context-1:\", s2[1])  \n",
    "a2 = simple_lesk(s2[1],'plant')  \n",
    "print (\"Sense:\", a2)  \n",
    "print (\"Definition : \", a2.definition())"
   ]
  },
  {
   "cell_type": "code",
   "execution_count": null,
   "metadata": {},
   "outputs": [],
   "source": []
  }
 ],
 "metadata": {
  "kernelspec": {
   "display_name": "Python 3",
   "language": "python",
   "name": "python3"
  },
  "language_info": {
   "codemirror_mode": {
    "name": "ipython",
    "version": 3
   },
   "file_extension": ".py",
   "mimetype": "text/x-python",
   "name": "python",
   "nbconvert_exporter": "python",
   "pygments_lexer": "ipython3",
   "version": "3.7.3"
  }
 },
 "nbformat": 4,
 "nbformat_minor": 2
}
